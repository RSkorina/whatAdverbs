{
 "cells": [
  {
   "cell_type": "code",
   "execution_count": 18,
   "metadata": {},
   "outputs": [],
   "source": [
    "import re\n",
    "\n",
    "\n",
    "fileNames = [\n",
    "    \"shortStories\",\n",
    "    \"acrossTheRiverAndIntoTheTrees\",\n",
    "    \"aFarewellToArms\",\n",
    "    \"forWhomTheBellTolls\",\n",
    "    \"islandsInTheStream\",\n",
    "    \"theGardenOfEden\",\n",
    "    \"theOldManAndTheSea\",\n",
    "    \"theSunAlsoRises\",\n",
    "    \"theTorrentsOfSpring\",\n",
    "    \"toHaveAndHaveNot\",\n",
    "]"
   ]
  },
  {
   "cell_type": "code",
   "execution_count": 23,
   "metadata": {},
   "outputs": [
    {
     "name": "stdout",
     "output_type": "stream",
     "text": [
      "['', 'the', 'first', 'forty', 'nine', 'preface', 'to', 'the', 'first', 'forty', 'nine', 'the', 'first', 'four', 'stories', 'are', 'the', 'last', 'ones', 'i', 'have', 'written', 'the', 'others', 'follow', 'in', 'the', 'order', 'in', 'which', 'they', 'were', 'originally', 'published', 'the', 'first', 'one', 'i', 'wrote', 'was', 'up', 'in', 'michigan', 'written', 'in', 'paris', 'in', '1921', 'the', 'last', 'was', 'old', 'man', 'at', 'the', 'bridge', 'cabled', 'from', 'barcelona', 'in', 'april', 'of', '1938', 'beside', 'the', 'fifth', 'column', 'i', 'wrote', 'the', 'killers', 'today', 'is', 'friday', 'ten', 'indians', 'part', 'of', 'the', 'sun', 'also', 'rises', 'and', 'the', 'first', 'third', 'of', 'to', 'have', 'and', 'have', 'not', 'in', 'madrid', 'it', 'was', 'always', 'a', 'good', 'place']\n"
     ]
    }
   ],
   "source": [
    "\n",
    "for book in fileNames: \n",
    "    filenameUnclean = \"dataUnclean/\" + book +\"txt\"\n",
    "    filenameClean = \"data/shortStoriesClean + \".txt\" \n",
    "\n",
    "\n",
    "    file = open(filenameUnclean,'r',encoding=\"utf-8\") \n",
    "    text = file.read()\n",
    "    file.close()\n",
    "\n",
    "    word = re.split(r'\\W+', text)\n",
    "    words = [word.lower() for word in words]\n",
    "    print(words[:100])\n",
    "\n",
    "    f = open(filenameClean, \"w+\",encoding=\"utf-8\")\n",
    "    f.write(text)\n",
    "    f.close()"
   ]
  },
  {
   "cell_type": "code",
   "execution_count": null,
   "metadata": {},
   "outputs": [],
   "source": []
  }
 ],
 "metadata": {
  "kernelspec": {
   "display_name": "Python 3",
   "language": "python",
   "name": "python3"
  },
  "language_info": {
   "codemirror_mode": {
    "name": "ipython",
    "version": 3
   },
   "file_extension": ".py",
   "mimetype": "text/x-python",
   "name": "python",
   "nbconvert_exporter": "python",
   "pygments_lexer": "ipython3",
   "version": "3.7.4"
  }
 },
 "nbformat": 4,
 "nbformat_minor": 2
}
